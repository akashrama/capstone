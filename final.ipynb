{
  "nbformat": 4,
  "nbformat_minor": 0,
  "metadata": {
    "kernelspec": {
      "name": "python3",
      "display_name": "Python 3"
    },
    "language_info": {
      "codemirror_mode": {
        "name": "ipython",
        "version": 3
      },
      "file_extension": ".py",
      "mimetype": "text/x-python",
      "name": "python",
      "nbconvert_exporter": "python",
      "pygments_lexer": "ipython3",
      "version": "3.7.4"
    },
    "colab": {
      "name": "Copy of capstone.ipynb",
      "provenance": [],
      "collapsed_sections": [],
      "toc_visible": true,
      "machine_shape": "hm",
      "include_colab_link": true
    }
  },
  "cells": [
    {
      "cell_type": "markdown",
      "metadata": {
        "id": "view-in-github",
        "colab_type": "text"
      },
      "source": [
        "<a href=\"https://colab.research.google.com/github/akashrama/capstone/blob/master/final.ipynb\" target=\"_parent\"><img src=\"https://colab.research.google.com/assets/colab-badge.svg\" alt=\"Open In Colab\"/></a>"
      ]
    },
    {
      "cell_type": "code",
      "metadata": {
        "id": "xYfWLYTveCNI",
        "colab_type": "code",
        "outputId": "85925ed1-bdcd-4058-da72-cbb36a965541",
        "colab": {
          "base_uri": "https://localhost:8080/",
          "height": 122
        }
      },
      "source": [
        "from google.colab import drive\n",
        "drive.mount('/content/drive')"
      ],
      "execution_count": 4,
      "outputs": [
        {
          "output_type": "stream",
          "text": [
            "Go to this URL in a browser: https://accounts.google.com/o/oauth2/auth?client_id=947318989803-6bn6qk8qdgf4n4g3pfee6491hc0brc4i.apps.googleusercontent.com&redirect_uri=urn%3aietf%3awg%3aoauth%3a2.0%3aoob&response_type=code&scope=email%20https%3a%2f%2fwww.googleapis.com%2fauth%2fdocs.test%20https%3a%2f%2fwww.googleapis.com%2fauth%2fdrive%20https%3a%2f%2fwww.googleapis.com%2fauth%2fdrive.photos.readonly%20https%3a%2f%2fwww.googleapis.com%2fauth%2fpeopleapi.readonly\n",
            "\n",
            "Enter your authorization code:\n",
            "··········\n",
            "Mounted at /content/drive\n"
          ],
          "name": "stdout"
        }
      ]
    },
    {
      "cell_type": "code",
      "metadata": {
        "id": "557tp3BAkDBB",
        "colab_type": "code",
        "colab": {
          "base_uri": "https://localhost:8080/",
          "height": 139
        },
        "outputId": "5f21b1bd-1ca6-432c-b0a2-fae50ba8d041"
      },
      "source": [
        "!pip install cftime"
      ],
      "execution_count": 5,
      "outputs": [
        {
          "output_type": "stream",
          "text": [
            "Collecting cftime\n",
            "\u001b[?25l  Downloading https://files.pythonhosted.org/packages/53/35/e2fc52247871c51590d6660e684fdc619a93a29f40e3b64894bd4f8c9041/cftime-1.1.0-cp36-cp36m-manylinux1_x86_64.whl (316kB)\n",
            "\r\u001b[K     |█                               | 10kB 20.3MB/s eta 0:00:01\r\u001b[K     |██                              | 20kB 1.8MB/s eta 0:00:01\r\u001b[K     |███                             | 30kB 2.6MB/s eta 0:00:01\r\u001b[K     |████▏                           | 40kB 1.7MB/s eta 0:00:01\r\u001b[K     |█████▏                          | 51kB 2.1MB/s eta 0:00:01\r\u001b[K     |██████▏                         | 61kB 2.5MB/s eta 0:00:01\r\u001b[K     |███████▎                        | 71kB 2.9MB/s eta 0:00:01\r\u001b[K     |████████▎                       | 81kB 3.3MB/s eta 0:00:01\r\u001b[K     |█████████▎                      | 92kB 3.7MB/s eta 0:00:01\r\u001b[K     |██████████▍                     | 102kB 2.8MB/s eta 0:00:01\r\u001b[K     |███████████▍                    | 112kB 2.8MB/s eta 0:00:01\r\u001b[K     |████████████▍                   | 122kB 2.8MB/s eta 0:00:01\r\u001b[K     |█████████████▌                  | 133kB 2.8MB/s eta 0:00:01\r\u001b[K     |██████████████▌                 | 143kB 2.8MB/s eta 0:00:01\r\u001b[K     |███████████████▌                | 153kB 2.8MB/s eta 0:00:01\r\u001b[K     |████████████████▋               | 163kB 2.8MB/s eta 0:00:01\r\u001b[K     |█████████████████▋              | 174kB 2.8MB/s eta 0:00:01\r\u001b[K     |██████████████████▋             | 184kB 2.8MB/s eta 0:00:01\r\u001b[K     |███████████████████▊            | 194kB 2.8MB/s eta 0:00:01\r\u001b[K     |████████████████████▊           | 204kB 2.8MB/s eta 0:00:01\r\u001b[K     |█████████████████████▊          | 215kB 2.8MB/s eta 0:00:01\r\u001b[K     |██████████████████████▉         | 225kB 2.8MB/s eta 0:00:01\r\u001b[K     |███████████████████████▉        | 235kB 2.8MB/s eta 0:00:01\r\u001b[K     |████████████████████████▉       | 245kB 2.8MB/s eta 0:00:01\r\u001b[K     |██████████████████████████      | 256kB 2.8MB/s eta 0:00:01\r\u001b[K     |███████████████████████████     | 266kB 2.8MB/s eta 0:00:01\r\u001b[K     |████████████████████████████    | 276kB 2.8MB/s eta 0:00:01\r\u001b[K     |█████████████████████████████   | 286kB 2.8MB/s eta 0:00:01\r\u001b[K     |██████████████████████████████  | 296kB 2.8MB/s eta 0:00:01\r\u001b[K     |███████████████████████████████ | 307kB 2.8MB/s eta 0:00:01\r\u001b[K     |████████████████████████████████| 317kB 2.8MB/s \n",
            "\u001b[?25hRequirement already satisfied: numpy in /usr/local/lib/python3.6/dist-packages (from cftime) (1.17.5)\n",
            "Installing collected packages: cftime\n",
            "Successfully installed cftime-1.1.0\n"
          ],
          "name": "stdout"
        }
      ]
    },
    {
      "cell_type": "code",
      "metadata": {
        "id": "SjS6qbo7cZiT",
        "colab_type": "code",
        "colab": {}
      },
      "source": [
        "import pandas as pd\n",
        "import pandas.tseries\n",
        "import numpy as np\n",
        "\n",
        "from sklearn.model_selection import train_test_split, TimeSeriesSplit, cross_val_score\n",
        "from sklearn.ensemble import BaggingClassifier, RandomForestClassifier, RandomForestRegressor\n",
        "from sklearn.model_selection import GridSearchCV, cross_val_score\n",
        "\n",
        "import xarray as xr\n",
        "\n",
        "%matplotlib inline\n",
        "import matplotlib.pyplot as plt"
      ],
      "execution_count": 0,
      "outputs": []
    },
    {
      "cell_type": "code",
      "metadata": {
        "id": "YNxyTQ385h93",
        "colab_type": "code",
        "colab": {}
      },
      "source": [
        "def process(path):\n",
        "  opened = xr.open_dataset(path)\n",
        "  df = opened.sel(lat=slice(-56,12), lon=slice(277,325.5), bnds=0).groupby('time.year').mean().to_dataframe()\n",
        "  df = df.reset_index()\n",
        "  df = df.drop(['lat','lon'], axis=1)\n",
        "  return df"
      ],
      "execution_count": 0,
      "outputs": []
    },
    {
      "cell_type": "code",
      "metadata": {
        "id": "gMfzU-0y5ziu",
        "colab_type": "code",
        "colab": {}
      },
      "source": [
        "pr = process('/content/drive/My Drive/Colab Notebooks/capstone/Noaa/pr_A2.20010101-21001231.nc')\n",
        "tas = process('/content/drive/My Drive/Colab Notebooks/capstone/Noaa/tas_A1.200101-210012-2.nc')\n",
        "tasmax = process('/content/drive/My Drive/Colab Notebooks/capstone/Noaa/tasmax_A2.20010101-21001231-2.nc')\n",
        "tasmin = process('/content/drive/My Drive/Colab Notebooks/capstone/Noaa/tasmin_A2.20010101-21001231.nc')"
      ],
      "execution_count": 0,
      "outputs": []
    },
    {
      "cell_type": "code",
      "metadata": {
        "id": "nSFPwkfAkuHO",
        "colab_type": "code",
        "colab": {}
      },
      "source": [
        "def noaa(pr, tas, tasmax, tasmin):\n",
        "  lat = pr['lat_bnds']\n",
        "  lon = pr['lon_bnds']\n",
        "  year = pr['year']\n",
        "  pr = pr['pr'] * 60 * 60 * 24 * 10\n",
        "  tas = tas['tas']\n",
        "  tasmax = tasmax['tasmax']\n",
        "  tasmin = tasmin['tasmin']\n",
        "  exp = pd.concat([lat, lon, pr, tas, tasmax, tasmin, year], axis=1)\n",
        "  exp = exp.groupby(['year', 'lat_bnds', 'lon_bnds']).mean()\n",
        "  exp = exp.reset_index()\n",
        "  return exp"
      ],
      "execution_count": 0,
      "outputs": []
    },
    {
      "cell_type": "code",
      "metadata": {
        "id": "AhhBNpNtlH99",
        "colab_type": "code",
        "colab": {}
      },
      "source": [
        "exp = noaa(pr, tas, tasmax, tasmin)"
      ],
      "execution_count": 0,
      "outputs": []
    },
    {
      "cell_type": "code",
      "metadata": {
        "id": "XDp-PRUbcZiX",
        "colab_type": "code",
        "colab": {}
      },
      "source": [
        "def read_csv():\n",
        "    \n",
        "    ''' This function imports necessary data'''\n",
        "    \n",
        "    df_submission = pd.read_csv('/content/drive/My Drive/Colab Notebooks/capstone/dengue_data/submission_format.csv')\n",
        "    df_test = pd.read_csv('/content/drive/My Drive/Colab Notebooks/capstone/dengue_data/dengue_features_test.csv')\n",
        "    df_training_labels = pd.read_csv('/content/drive/My Drive/Colab Notebooks/capstone/dengue_data/dengue_labels_train.csv')\n",
        "    df_training_features = pd.read_csv('/content/drive/My Drive/Colab Notebooks/capstone/dengue_data/dengue_features_train.csv')\n",
        "    return (df_submission, df_test, df_training_labels, df_training_features)\n"
      ],
      "execution_count": 0,
      "outputs": []
    },
    {
      "cell_type": "code",
      "metadata": {
        "id": "NUFuS1VhcZll",
        "colab_type": "code",
        "colab": {}
      },
      "source": [
        "df_submission, df_test, df_training_labels, df_training_features = read_csv()"
      ],
      "execution_count": 0,
      "outputs": []
    },
    {
      "cell_type": "code",
      "metadata": {
        "id": "oWkMPMtbMApr",
        "colab_type": "code",
        "colab": {
          "base_uri": "https://localhost:8080/",
          "height": 164
        },
        "outputId": "5fd5c372-499f-47bc-a9d6-5545ee770d00"
      },
      "source": [
        "errors = abs(predict - y_testtime)"
      ],
      "execution_count": 11,
      "outputs": [
        {
          "output_type": "error",
          "ename": "NameError",
          "evalue": "ignored",
          "traceback": [
            "\u001b[0;31m---------------------------------------------------------------------------\u001b[0m",
            "\u001b[0;31mNameError\u001b[0m                                 Traceback (most recent call last)",
            "\u001b[0;32m<ipython-input-11-064c93ff1110>\u001b[0m in \u001b[0;36m<module>\u001b[0;34m()\u001b[0m\n\u001b[0;32m----> 1\u001b[0;31m \u001b[0merrors\u001b[0m \u001b[0;34m=\u001b[0m \u001b[0mabs\u001b[0m\u001b[0;34m(\u001b[0m\u001b[0mpredict\u001b[0m \u001b[0;34m-\u001b[0m \u001b[0my_testtime\u001b[0m\u001b[0;34m)\u001b[0m\u001b[0;34m\u001b[0m\u001b[0;34m\u001b[0m\u001b[0m\n\u001b[0m",
            "\u001b[0;31mNameError\u001b[0m: name 'predict' is not defined"
          ]
        }
      ]
    },
    {
      "cell_type": "code",
      "metadata": {
        "id": "VoaudmQiMAnl",
        "colab_type": "code",
        "colab": {}
      },
      "source": [
        "print('Metrics for Random Forest Trained on Original Data')\n",
        "MAE = round(np.mean(errors), 2)\n",
        "print('Mean absolute error:', MAE, 'degrees.')\n",
        "mape = 100 * (MAE / round(np.mean(y_testtime), 2))\n",
        "print('Mean absolute percentage:', mape)"
      ],
      "execution_count": 0,
      "outputs": []
    },
    {
      "cell_type": "code",
      "metadata": {
        "id": "0FY9S7OCAFDe",
        "colab_type": "code",
        "colab": {}
      },
      "source": [
        "def forecast(exp, df_test, df_training_labels, df_training_features):\n",
        "  X_train = df_training_features\n",
        "  y_train = df_training_labels\n",
        "  X_test = df_test\n",
        "\n",
        "  y_train = y_train['total_cases']\n",
        "\n",
        "  X_train = pd.concat([X_train, y_train], axis=1)\n",
        "\n",
        "  X_train = X_train[['reanalysis_sat_precip_amt_mm', 'reanalysis_avg_temp_k', 'reanalysis_max_air_temp_k', 'reanalysis_min_air_temp_k', 'year', 'total_cases']]\n",
        "  X_test = X_test[['reanalysis_sat_precip_amt_mm', 'reanalysis_avg_temp_k', 'reanalysis_max_air_temp_k', 'reanalysis_min_air_temp_k', 'year']]\n",
        "\n",
        "  X_train = X_train.dropna()\n",
        "  X_train = X_train.reset_index(drop=True)\n",
        "  X_test = X_test.dropna()\n",
        "  X_test = X_test.reset_index(drop=True)\n",
        "\n",
        "  y_train = X_train['total_cases']\n",
        "  y_train = y_train.reset_index()\n",
        "\n",
        "  X_train = X_train.drop('total_cases', axis=1)\n",
        "  y_train = y_train.drop('index', axis=1)\n",
        "\n",
        "  X_train = X_train.drop(['year'], axis=1)\n",
        "  X_test = X_test.drop(['year'], axis=1)\n",
        "\n",
        "  exp_lat = exp['lat_bnds']\n",
        "  exp_lon = exp['lon_bnds']\n",
        "  exp_year = exp['year']\n",
        "\n",
        "  exp = exp.drop(['lat_bnds','lon_bnds', 'year'], axis=1)\n",
        "\n",
        "  X_train.columns = ['pr', 'tas', 'tasmax', 'tasmin']\n",
        "\n",
        "  rf = RandomForestRegressor(\n",
        "    bootstrap= True,\n",
        "    max_depth= 1000,\n",
        "    max_features= 'sqrt',\n",
        "    min_samples_leaf= 50,\n",
        "    min_samples_split= 30,\n",
        "    n_estimators= 800)\n",
        "  rf.fit(X_train, y_train)\n",
        "  future_pred = rf.predict(exp)\n",
        "\n",
        "  result = {'total_cases': future_pred}\n",
        "  \n",
        "  future_df = pd.DataFrame(result)\n",
        "\n",
        "  final = pd.concat([exp, exp_year, exp_lat, exp_lon, future_df], axis=1)\n",
        "  final_g = final.groupby(['lat_bnds', 'lon_bnds', 'year']).sum()\n",
        "  return final_g"
      ],
      "execution_count": 0,
      "outputs": []
    },
    {
      "cell_type": "code",
      "metadata": {
        "id": "jzWbqIelFRay",
        "colab_type": "code",
        "colab": {
          "base_uri": "https://localhost:8080/",
          "height": 487
        },
        "outputId": "98bbce36-4c52-49ee-909b-0ee64054f974"
      },
      "source": [
        "final = forecast(exp, df_test, df_training_labels, df_training_features)\n",
        "final"
      ],
      "execution_count": 13,
      "outputs": [
        {
          "output_type": "stream",
          "text": [
            "/usr/local/lib/python3.6/dist-packages/ipykernel_launcher.py:42: DataConversionWarning: A column-vector y was passed when a 1d array was expected. Please change the shape of y to (n_samples,), for example using ravel().\n"
          ],
          "name": "stderr"
        },
        {
          "output_type": "execute_result",
          "data": {
            "text/html": [
              "<div>\n",
              "<style scoped>\n",
              "    .dataframe tbody tr th:only-of-type {\n",
              "        vertical-align: middle;\n",
              "    }\n",
              "\n",
              "    .dataframe tbody tr th {\n",
              "        vertical-align: top;\n",
              "    }\n",
              "\n",
              "    .dataframe thead th {\n",
              "        text-align: right;\n",
              "    }\n",
              "</style>\n",
              "<table border=\"1\" class=\"dataframe\">\n",
              "  <thead>\n",
              "    <tr style=\"text-align: right;\">\n",
              "      <th></th>\n",
              "      <th></th>\n",
              "      <th></th>\n",
              "      <th>pr</th>\n",
              "      <th>tas</th>\n",
              "      <th>tasmax</th>\n",
              "      <th>tasmin</th>\n",
              "      <th>total_cases</th>\n",
              "    </tr>\n",
              "    <tr>\n",
              "      <th>lat_bnds</th>\n",
              "      <th>lon_bnds</th>\n",
              "      <th>year</th>\n",
              "      <th></th>\n",
              "      <th></th>\n",
              "      <th></th>\n",
              "      <th></th>\n",
              "      <th></th>\n",
              "    </tr>\n",
              "  </thead>\n",
              "  <tbody>\n",
              "    <tr>\n",
              "      <th rowspan=\"5\" valign=\"top\">-56.629215</th>\n",
              "      <th rowspan=\"5\" valign=\"top\">277.5</th>\n",
              "      <th>2001</th>\n",
              "      <td>26.823822</td>\n",
              "      <td>279.609741</td>\n",
              "      <td>280.239075</td>\n",
              "      <td>278.989227</td>\n",
              "      <td>15.801354</td>\n",
              "    </tr>\n",
              "    <tr>\n",
              "      <th>2002</th>\n",
              "      <td>29.136833</td>\n",
              "      <td>279.609711</td>\n",
              "      <td>280.255585</td>\n",
              "      <td>278.950592</td>\n",
              "      <td>15.802572</td>\n",
              "    </tr>\n",
              "    <tr>\n",
              "      <th>2003</th>\n",
              "      <td>33.108948</td>\n",
              "      <td>279.905640</td>\n",
              "      <td>280.537994</td>\n",
              "      <td>279.256989</td>\n",
              "      <td>15.982121</td>\n",
              "    </tr>\n",
              "    <tr>\n",
              "      <th>2004</th>\n",
              "      <td>32.287910</td>\n",
              "      <td>279.651794</td>\n",
              "      <td>280.224548</td>\n",
              "      <td>279.051941</td>\n",
              "      <td>15.941381</td>\n",
              "    </tr>\n",
              "    <tr>\n",
              "      <th>2005</th>\n",
              "      <td>28.135958</td>\n",
              "      <td>279.369843</td>\n",
              "      <td>279.990723</td>\n",
              "      <td>278.760437</td>\n",
              "      <td>15.802572</td>\n",
              "    </tr>\n",
              "    <tr>\n",
              "      <th>...</th>\n",
              "      <th>...</th>\n",
              "      <th>...</th>\n",
              "      <td>...</td>\n",
              "      <td>...</td>\n",
              "      <td>...</td>\n",
              "      <td>...</td>\n",
              "      <td>...</td>\n",
              "    </tr>\n",
              "    <tr>\n",
              "      <th rowspan=\"5\" valign=\"top\">10.112360</th>\n",
              "      <th rowspan=\"5\" valign=\"top\">322.5</th>\n",
              "      <th>2096</th>\n",
              "      <td>50.298172</td>\n",
              "      <td>299.497955</td>\n",
              "      <td>299.783997</td>\n",
              "      <td>299.242828</td>\n",
              "      <td>38.095417</td>\n",
              "    </tr>\n",
              "    <tr>\n",
              "      <th>2097</th>\n",
              "      <td>52.781776</td>\n",
              "      <td>298.925507</td>\n",
              "      <td>299.198181</td>\n",
              "      <td>298.663513</td>\n",
              "      <td>38.861730</td>\n",
              "    </tr>\n",
              "    <tr>\n",
              "      <th>2098</th>\n",
              "      <td>29.248409</td>\n",
              "      <td>299.037476</td>\n",
              "      <td>299.304230</td>\n",
              "      <td>298.782135</td>\n",
              "      <td>38.703014</td>\n",
              "    </tr>\n",
              "    <tr>\n",
              "      <th>2099</th>\n",
              "      <td>44.304260</td>\n",
              "      <td>299.054199</td>\n",
              "      <td>299.335175</td>\n",
              "      <td>298.785309</td>\n",
              "      <td>38.441845</td>\n",
              "    </tr>\n",
              "    <tr>\n",
              "      <th>2100</th>\n",
              "      <td>49.479324</td>\n",
              "      <td>299.175323</td>\n",
              "      <td>299.442902</td>\n",
              "      <td>298.921478</td>\n",
              "      <td>39.097338</td>\n",
              "    </tr>\n",
              "  </tbody>\n",
              "</table>\n",
              "<p>64600 rows × 5 columns</p>\n",
              "</div>"
            ],
            "text/plain": [
              "                                 pr         tas  ...      tasmin  total_cases\n",
              "lat_bnds   lon_bnds year                         ...                         \n",
              "-56.629215 277.5    2001  26.823822  279.609741  ...  278.989227    15.801354\n",
              "                    2002  29.136833  279.609711  ...  278.950592    15.802572\n",
              "                    2003  33.108948  279.905640  ...  279.256989    15.982121\n",
              "                    2004  32.287910  279.651794  ...  279.051941    15.941381\n",
              "                    2005  28.135958  279.369843  ...  278.760437    15.802572\n",
              "...                             ...         ...  ...         ...          ...\n",
              " 10.112360 322.5    2096  50.298172  299.497955  ...  299.242828    38.095417\n",
              "                    2097  52.781776  298.925507  ...  298.663513    38.861730\n",
              "                    2098  29.248409  299.037476  ...  298.782135    38.703014\n",
              "                    2099  44.304260  299.054199  ...  298.785309    38.441845\n",
              "                    2100  49.479324  299.175323  ...  298.921478    39.097338\n",
              "\n",
              "[64600 rows x 5 columns]"
            ]
          },
          "metadata": {
            "tags": []
          },
          "execution_count": 13
        }
      ]
    },
    {
      "cell_type": "code",
      "metadata": {
        "id": "JO0lz0fmxmiP",
        "colab_type": "code",
        "colab": {}
      },
      "source": [
        "export_csv = final.to_csv(r'/content/drive/My Drive/Colab Notebooks/final/not.csv', index = None, header=True) "
      ],
      "execution_count": 0,
      "outputs": []
    }
  ]
}