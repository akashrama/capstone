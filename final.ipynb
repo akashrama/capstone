{
  "nbformat": 4,
  "nbformat_minor": 0,
  "metadata": {
    "kernelspec": {
      "name": "python3",
      "display_name": "Python 3"
    },
    "language_info": {
      "codemirror_mode": {
        "name": "ipython",
        "version": 3
      },
      "file_extension": ".py",
      "mimetype": "text/x-python",
      "name": "python",
      "nbconvert_exporter": "python",
      "pygments_lexer": "ipython3",
      "version": "3.7.4"
    },
    "colab": {
      "name": "final.ipynb",
      "provenance": [],
      "collapsed_sections": [],
      "toc_visible": true,
      "machine_shape": "hm",
      "include_colab_link": true
    }
  },
  "cells": [
    {
      "cell_type": "markdown",
      "metadata": {
        "id": "view-in-github",
        "colab_type": "text"
      },
      "source": [
        "<a href=\"https://colab.research.google.com/github/akashrama/capstone/blob/master/final.ipynb\" target=\"_parent\"><img src=\"https://colab.research.google.com/assets/colab-badge.svg\" alt=\"Open In Colab\"/></a>"
      ]
    },
    {
      "cell_type": "code",
      "metadata": {
        "id": "xYfWLYTveCNI",
        "colab_type": "code",
        "outputId": "ce74bb87-0ef9-44ae-de7d-f1d528788b6f",
        "colab": {
          "base_uri": "https://localhost:8080/",
          "height": 122
        }
      },
      "source": [
        "from google.colab import drive\n",
        "drive.mount('/content/drive')"
      ],
      "execution_count": 2,
      "outputs": [
        {
          "output_type": "stream",
          "text": [
            "Go to this URL in a browser: https://accounts.google.com/o/oauth2/auth?client_id=947318989803-6bn6qk8qdgf4n4g3pfee6491hc0brc4i.apps.googleusercontent.com&redirect_uri=urn%3aietf%3awg%3aoauth%3a2.0%3aoob&response_type=code&scope=email%20https%3a%2f%2fwww.googleapis.com%2fauth%2fdocs.test%20https%3a%2f%2fwww.googleapis.com%2fauth%2fdrive%20https%3a%2f%2fwww.googleapis.com%2fauth%2fdrive.photos.readonly%20https%3a%2f%2fwww.googleapis.com%2fauth%2fpeopleapi.readonly\n",
            "\n",
            "Enter your authorization code:\n",
            "··········\n",
            "Mounted at /content/drive\n"
          ],
          "name": "stdout"
        }
      ]
    },
    {
      "cell_type": "code",
      "metadata": {
        "id": "557tp3BAkDBB",
        "colab_type": "code",
        "colab": {
          "base_uri": "https://localhost:8080/",
          "height": 139
        },
        "outputId": "dde16d2b-7ecc-40eb-9c84-bc3015a71abf"
      },
      "source": [
        "!pip install cftime"
      ],
      "execution_count": 3,
      "outputs": [
        {
          "output_type": "stream",
          "text": [
            "Collecting cftime\n",
            "\u001b[?25l  Downloading https://files.pythonhosted.org/packages/53/35/e2fc52247871c51590d6660e684fdc619a93a29f40e3b64894bd4f8c9041/cftime-1.1.0-cp36-cp36m-manylinux1_x86_64.whl (316kB)\n",
            "\r\u001b[K     |█                               | 10kB 19.4MB/s eta 0:00:01\r\u001b[K     |██                              | 20kB 2.1MB/s eta 0:00:01\r\u001b[K     |███                             | 30kB 2.8MB/s eta 0:00:01\r\u001b[K     |████▏                           | 40kB 2.0MB/s eta 0:00:01\r\u001b[K     |█████▏                          | 51kB 2.3MB/s eta 0:00:01\r\u001b[K     |██████▏                         | 61kB 2.7MB/s eta 0:00:01\r\u001b[K     |███████▎                        | 71kB 2.9MB/s eta 0:00:01\r\u001b[K     |████████▎                       | 81kB 3.1MB/s eta 0:00:01\r\u001b[K     |█████████▎                      | 92kB 3.4MB/s eta 0:00:01\r\u001b[K     |██████████▍                     | 102kB 3.3MB/s eta 0:00:01\r\u001b[K     |███████████▍                    | 112kB 3.3MB/s eta 0:00:01\r\u001b[K     |████████████▍                   | 122kB 3.3MB/s eta 0:00:01\r\u001b[K     |█████████████▌                  | 133kB 3.3MB/s eta 0:00:01\r\u001b[K     |██████████████▌                 | 143kB 3.3MB/s eta 0:00:01\r\u001b[K     |███████████████▌                | 153kB 3.3MB/s eta 0:00:01\r\u001b[K     |████████████████▋               | 163kB 3.3MB/s eta 0:00:01\r\u001b[K     |█████████████████▋              | 174kB 3.3MB/s eta 0:00:01\r\u001b[K     |██████████████████▋             | 184kB 3.3MB/s eta 0:00:01\r\u001b[K     |███████████████████▊            | 194kB 3.3MB/s eta 0:00:01\r\u001b[K     |████████████████████▊           | 204kB 3.3MB/s eta 0:00:01\r\u001b[K     |█████████████████████▊          | 215kB 3.3MB/s eta 0:00:01\r\u001b[K     |██████████████████████▉         | 225kB 3.3MB/s eta 0:00:01\r\u001b[K     |███████████████████████▉        | 235kB 3.3MB/s eta 0:00:01\r\u001b[K     |████████████████████████▉       | 245kB 3.3MB/s eta 0:00:01\r\u001b[K     |██████████████████████████      | 256kB 3.3MB/s eta 0:00:01\r\u001b[K     |███████████████████████████     | 266kB 3.3MB/s eta 0:00:01\r\u001b[K     |████████████████████████████    | 276kB 3.3MB/s eta 0:00:01\r\u001b[K     |█████████████████████████████   | 286kB 3.3MB/s eta 0:00:01\r\u001b[K     |██████████████████████████████  | 296kB 3.3MB/s eta 0:00:01\r\u001b[K     |███████████████████████████████ | 307kB 3.3MB/s eta 0:00:01\r\u001b[K     |████████████████████████████████| 317kB 3.3MB/s \n",
            "\u001b[?25hRequirement already satisfied: numpy in /usr/local/lib/python3.6/dist-packages (from cftime) (1.17.5)\n",
            "Installing collected packages: cftime\n",
            "Successfully installed cftime-1.1.0\n"
          ],
          "name": "stdout"
        }
      ]
    },
    {
      "cell_type": "code",
      "metadata": {
        "id": "SjS6qbo7cZiT",
        "colab_type": "code",
        "colab": {}
      },
      "source": [
        "import pandas as pd\n",
        "import pandas.tseries\n",
        "import numpy as np\n",
        "\n",
        "from sklearn.model_selection import train_test_split, TimeSeriesSplit, cross_val_score\n",
        "from sklearn.ensemble import BaggingClassifier, RandomForestClassifier, RandomForestRegressor\n",
        "from sklearn.model_selection import GridSearchCV, cross_val_score\n",
        "\n",
        "import xarray as xr\n",
        "\n",
        "%matplotlib inline\n",
        "import matplotlib.pyplot as plt"
      ],
      "execution_count": 0,
      "outputs": []
    },
    {
      "cell_type": "code",
      "metadata": {
        "id": "YNxyTQ385h93",
        "colab_type": "code",
        "colab": {}
      },
      "source": [
        "def process(path):\n",
        "  opened = xr.open_dataset(path)\n",
        "  df = opened.sel(lat=slice(-56,12), lon=slice(277,325.5), bnds=0).groupby('time.year').mean().to_dataframe()\n",
        "  df = df.reset_index()\n",
        "  df = df.drop(['lat','lon'], axis=1)\n",
        "  return df"
      ],
      "execution_count": 0,
      "outputs": []
    },
    {
      "cell_type": "code",
      "metadata": {
        "id": "nSFPwkfAkuHO",
        "colab_type": "code",
        "colab": {}
      },
      "source": [
        "def noaa(pr, tas, tasmax, tasmin):\n",
        "  lat = pr['lat_bnds']\n",
        "  lon = pr['lon_bnds']\n",
        "  year = pr['year']\n",
        "  pr = pr['pr'] * 60 * 60 * 24 * 10\n",
        "  tas = tas['tas']\n",
        "  tasmax = tasmax['tasmax']\n",
        "  tasmin = tasmin['tasmin']\n",
        "  exp = pd.concat([lat, lon, pr, tas, tasmax, tasmin, year], axis=1)\n",
        "  exp = exp.groupby(['year', 'lat_bnds', 'lon_bnds']).mean()\n",
        "  exp = exp.reset_index()\n",
        "  return exp"
      ],
      "execution_count": 0,
      "outputs": []
    },
    {
      "cell_type": "code",
      "metadata": {
        "id": "XDp-PRUbcZiX",
        "colab_type": "code",
        "colab": {}
      },
      "source": [
        "def read_csv():\n",
        "    \n",
        "    ''' This function imports necessary data'''\n",
        "    \n",
        "    df_submission = pd.read_csv('/content/drive/My Drive/Colab Notebooks/capstone/dengue_data/submission_format.csv')\n",
        "    df_test = pd.read_csv('/content/drive/My Drive/Colab Notebooks/capstone/dengue_data/dengue_features_test.csv')\n",
        "    df_training_labels = pd.read_csv('/content/drive/My Drive/Colab Notebooks/capstone/dengue_data/dengue_labels_train.csv')\n",
        "    df_training_features = pd.read_csv('/content/drive/My Drive/Colab Notebooks/capstone/dengue_data/dengue_features_train.csv')\n",
        "    return (df_submission, df_test, df_training_labels, df_training_features)\n"
      ],
      "execution_count": 0,
      "outputs": []
    },
    {
      "cell_type": "code",
      "metadata": {
        "id": "_1h4UjUpI6-e",
        "colab_type": "code",
        "colab": {}
      },
      "source": [
        "def features(X_test, y_train, X_train):\n",
        "\n",
        "  y_train = y_train['total_cases']\n",
        "\n",
        "  X_train = pd.concat([X_train, y_train], axis=1)\n",
        "\n",
        "  X_train = X_train[['reanalysis_sat_precip_amt_mm', 'reanalysis_avg_temp_k', 'reanalysis_max_air_temp_k', 'reanalysis_min_air_temp_k', 'year', 'total_cases']]\n",
        "  X_test = X_test[['reanalysis_sat_precip_amt_mm', 'reanalysis_avg_temp_k', 'reanalysis_max_air_temp_k', 'reanalysis_min_air_temp_k', 'year']]\n",
        "\n",
        "  X_train = X_train.dropna()\n",
        "  X_train = X_train.reset_index(drop=True)\n",
        "  X_test = X_test.dropna()\n",
        "  X_test = X_test.reset_index(drop=True)\n",
        "\n",
        "  y_train = X_train['total_cases']\n",
        "  y_train = y_train.reset_index()\n",
        "\n",
        "  X_train = X_train.drop('total_cases', axis=1)\n",
        "  y_train = y_train.drop('index', axis=1)\n",
        "\n",
        "  X_train = X_train.drop(['year'], axis=1)\n",
        "  X_test = X_test.drop(['year'], axis=1)\n",
        "\n",
        "  return X_train, X_test, y_train"
      ],
      "execution_count": 0,
      "outputs": []
    },
    {
      "cell_type": "code",
      "metadata": {
        "id": "bqSFbHwjImIz",
        "colab_type": "code",
        "colab": {}
      },
      "source": [
        "def features_test(X_test, y_train, X_train, y_test):\n",
        "  y_train = y_train['total_cases']\n",
        "  y_test = y_test['total_cases']\n",
        "\n",
        "  X_train = pd.concat([X_train, y_train], axis=1)\n",
        "  X_test = pd.concat([X_test, y_test], axis=1)\n",
        "\n",
        "  X_train = X_train[['reanalysis_sat_precip_amt_mm', 'reanalysis_avg_temp_k', 'reanalysis_max_air_temp_k', 'reanalysis_min_air_temp_k', 'total_cases']]\n",
        "  X_test = X_test[['reanalysis_sat_precip_amt_mm', 'reanalysis_avg_temp_k', 'reanalysis_max_air_temp_k', 'reanalysis_min_air_temp_k', 'total_cases']]\n",
        "\n",
        "  X_train = X_train.dropna()\n",
        "  X_train = X_train.reset_index(drop=True)\n",
        "  X_test = X_test.dropna()\n",
        "  X_test = X_test.reset_index(drop=True)\n",
        "\n",
        "  y_train = X_train['total_cases']\n",
        "  y_test = X_test['total_cases']\n",
        "\n",
        "  X_train = X_train.drop('total_cases', axis=1)\n",
        "  X_test = X_test.drop('total_cases', axis=1)\n",
        "\n",
        "  return X_train, X_test, y_train, y_test"
      ],
      "execution_count": 0,
      "outputs": []
    },
    {
      "cell_type": "code",
      "metadata": {
        "id": "0FY9S7OCAFDe",
        "colab_type": "code",
        "colab": {}
      },
      "source": [
        "def forecast(exp, X_train, X_test, y_train):\n",
        "  exp_lat = exp['lat_bnds']\n",
        "  exp_lon = exp['lon_bnds']\n",
        "  exp_year = exp['year']\n",
        "\n",
        "  exp = exp.drop(['lat_bnds','lon_bnds', 'year'], axis=1)\n",
        "\n",
        "  X_train.columns = ['pr', 'tas', 'tasmax', 'tasmin']\n",
        "\n",
        "  rf = RandomForestRegressor(\n",
        "    bootstrap= True,\n",
        "    max_depth= 1000,\n",
        "    max_features= 'sqrt',\n",
        "    min_samples_leaf= 50,\n",
        "    min_samples_split= 30,\n",
        "    n_estimators= 800)\n",
        "  rf.fit(X_train, y_train)\n",
        "  future_pred = rf.predict(exp)\n",
        "\n",
        "  result = {'total_cases': future_pred}\n",
        "  \n",
        "  future_df = pd.DataFrame(result)\n",
        "\n",
        "  final = pd.concat([exp, exp_year, exp_lat, exp_lon, future_df], axis=1)\n",
        "  final_g = final.groupby(['lat_bnds', 'lon_bnds', 'year']).sum()\n",
        "  return final_g"
      ],
      "execution_count": 0,
      "outputs": []
    },
    {
      "cell_type": "code",
      "metadata": {
        "id": "Bwat9GJMLv4o",
        "colab_type": "code",
        "colab": {}
      },
      "source": [
        "def validity(X_train, y_train):\n",
        "  \n",
        "  X_train_sort = X_train.sort_values(by=['year', 'weekofyear'])\n",
        "  y_train_sort = y_train.sort_values(by=['year', 'weekofyear'])\n",
        "  \n",
        "  X_train = X_train_sort.head(int(len(X_train_sort)*(70)))\n",
        "  y_train = y_train_sort.head(int(len(X_train_sort)*(70)))\n",
        "\n",
        "  X_test = X_train_sort.tail(int(len(X_train_sort)*(30)))\n",
        "  y_test = y_train_sort.tail(int(len(X_train_sort)*(30)))\n",
        "\n",
        "  X_train, X_test, y_train, y_test = features_test(X_test, y_train, X_train, y_test)\n",
        "\n",
        "  rf = RandomForestRegressor(\n",
        "    bootstrap= True,\n",
        "    max_depth= 1000,\n",
        "    max_features= 'sqrt',\n",
        "    min_samples_leaf= 50,\n",
        "    min_samples_split= 30,\n",
        "    n_estimators= 800)\n",
        "  rf.fit(X_train_i, y_train_i)\n",
        "  pred = rf.predict(X_test_i)\n",
        "\n",
        "  errors = abs(pred - y_test_i)\n",
        "  print('Metrics for Random Forest Trained on Original Data')\n",
        "  MAE = round(np.mean(errors), 2)\n",
        "  print('Mean absolute error:', MAE, 'degrees.')"
      ],
      "execution_count": 0,
      "outputs": []
    },
    {
      "cell_type": "code",
      "metadata": {
        "id": "gMfzU-0y5ziu",
        "colab_type": "code",
        "colab": {}
      },
      "source": [
        "pr = process('/content/drive/My Drive/Colab Notebooks/capstone/Noaa/pr_A2.20010101-21001231.nc')\n",
        "tas = process('/content/drive/My Drive/Colab Notebooks/capstone/Noaa/tas_A1.200101-210012-2.nc')\n",
        "tasmax = process('/content/drive/My Drive/Colab Notebooks/capstone/Noaa/tasmax_A2.20010101-21001231-2.nc')\n",
        "tasmin = process('/content/drive/My Drive/Colab Notebooks/capstone/Noaa/tasmin_A2.20010101-21001231.nc')"
      ],
      "execution_count": 0,
      "outputs": []
    },
    {
      "cell_type": "code",
      "metadata": {
        "id": "AhhBNpNtlH99",
        "colab_type": "code",
        "colab": {}
      },
      "source": [
        "exp = noaa(pr, tas, tasmax, tasmin)"
      ],
      "execution_count": 0,
      "outputs": []
    },
    {
      "cell_type": "code",
      "metadata": {
        "id": "NUFuS1VhcZll",
        "colab_type": "code",
        "colab": {}
      },
      "source": [
        "df_submission, df_test, df_training_labels, df_training_features = read_csv()"
      ],
      "execution_count": 0,
      "outputs": []
    },
    {
      "cell_type": "code",
      "metadata": {
        "id": "K8d00Fdm896j",
        "colab_type": "code",
        "colab": {}
      },
      "source": [
        "X_train, X_test, y_train = features(df_test, df_training_labels, df_training_features)"
      ],
      "execution_count": 0,
      "outputs": []
    },
    {
      "cell_type": "code",
      "metadata": {
        "id": "jzWbqIelFRay",
        "colab_type": "code",
        "colab": {}
      },
      "source": [
        "final = forecast(exp, X_train, X_test, y_train)\n"
      ],
      "execution_count": 0,
      "outputs": []
    },
    {
      "cell_type": "code",
      "metadata": {
        "id": "mqS-BdXbuWhK",
        "colab_type": "code",
        "colab": {}
      },
      "source": [
        "validity(df_training_features, df_training_labels)"
      ],
      "execution_count": 0,
      "outputs": []
    },
    {
      "cell_type": "code",
      "metadata": {
        "id": "JO0lz0fmxmiP",
        "colab_type": "code",
        "colab": {}
      },
      "source": [
        "export_csv = final.to_csv(r'/content/drive/My Drive/Colab Notebooks/final/not.csv', index = None, header=True) "
      ],
      "execution_count": 0,
      "outputs": []
    }
  ]
}